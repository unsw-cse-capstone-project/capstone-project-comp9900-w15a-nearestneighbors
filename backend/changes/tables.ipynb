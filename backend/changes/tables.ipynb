{
 "cells": [
  {
   "cell_type": "code",
   "execution_count": 1,
   "metadata": {},
   "outputs": [],
   "source": [
    "import pandas as pd"
   ]
  },
  {
   "cell_type": "code",
   "execution_count": 2,
   "metadata": {},
   "outputs": [],
   "source": [
    "df = pd.read_csv(\"data/moviesfinal.csv\")"
   ]
  },
  {
   "cell_type": "code",
   "execution_count": 3,
   "metadata": {},
   "outputs": [
    {
     "data": {
      "text/plain": [
       "Index(['Unnamed: 0', 'movie_id', 'Movie_name', 'tagline', 'countries',\n",
       "       'release_date', 'director_name', 'homepage', 'genre_names', 'GenreID_s',\n",
       "       'Actors', 'Actress', 'Other_cast', 'runtime', 'status', 'vote_average',\n",
       "       'vote_count', 'directorID'],\n",
       "      dtype='object')"
      ]
     },
     "execution_count": 3,
     "metadata": {},
     "output_type": "execute_result"
    }
   ],
   "source": [
    "df.columns"
   ]
  },
  {
   "cell_type": "code",
   "execution_count": 4,
   "metadata": {},
   "outputs": [],
   "source": [
    "import sqlite3\n",
    "conn = sqlite3.connect('MovieFinder.db')\n",
    "c= conn.cursor()\n"
   ]
  },
  {
   "cell_type": "code",
   "execution_count": 5,
   "metadata": {},
   "outputs": [
    {
     "data": {
      "text/plain": [
       "<sqlite3.Cursor at 0x1197519d0>"
      ]
     },
     "execution_count": 5,
     "metadata": {},
     "output_type": "execute_result"
    }
   ],
   "source": [
    "c.execute(\"\"\"CREATE TABLE IF NOT EXISTS Movie(mid integer PRIMARY KEY,\n",
    "                name text,\n",
    "                description text,\n",
    "                region text,\n",
    "                released_date text,\n",
    "                poster BLOB,\n",
    "                director integer,\n",
    "                rating integer,\n",
    "                votecount integer,\n",
    "                FOREIGN KEY (director) REFERENCES Person(pid))\"\"\")\n",
    "c.execute(\"\"\"CREATE TABLE IF NOT EXISTS Movie_Genre(movie integer,\n",
    "                genretype text,\n",
    "                genreid integer,\n",
    "                FOREIGN KEY (movie) REFERENCES Movie(mid))\"\"\")\n",
    "\n",
    "c.execute(\"\"\"CREATE TABLE IF NOT EXISTS Person(pid integer PRIMARY KEY ,\n",
    "                name text)\"\"\")\n",
    "\n",
    "\n",
    "\n",
    "\n",
    "c.execute(\"\"\"CREATE TABLE IF NOT EXISTS User(\n",
    "                uid text PRIMARY KEY,\n",
    "                name text,\n",
    "                password text,\n",
    "                profile_photo BLOB\n",
    "                )\"\"\")\n",
    "c.execute(\"\"\"CREATE TABLE IF NOT EXISTS watch_history(\n",
    "                uID text,\n",
    "                mID integer,\n",
    "                watch_date text,\n",
    "                FOREIGN KEY (uID) REFERENCES User (uid),\n",
    "                FOREIGN KEY (mID) REFERENCES Movie (mid)\n",
    "                )\"\"\")\n",
    "\n",
    "c.execute(\"\"\"CREATE TABLE IF NOT EXISTS wish_list(\n",
    "                userID text,\n",
    "                movieID integer,\n",
    "                FOREIGN KEY (userID) REFERENCES User(uid),\n",
    "                FOREIGN KEY (movieID) REFERENCES Movie(mid)\n",
    "                )\"\"\")\n",
    "\n",
    "c.execute(\"\"\"CREATE TABLE IF NOT EXISTS user_banned_list(\n",
    "                userID text,\n",
    "                banned_user_ID integer,\n",
    "                FOREIGN KEY (userID) REFERENCES User(uid)\n",
    "                )\"\"\")\n",
    "c.execute(\"\"\"CREATE TABLE IF NOT EXISTS Movie_Posters(\n",
    "                movieID integer,\n",
    "                poster BLOB,\n",
    "                FOREIGN KEY (movieID) REFERENCES Movie(mid)\n",
    "                )\"\"\")\n",
    "\n"
   ]
  },
  {
   "cell_type": "code",
   "execution_count": 6,
   "metadata": {},
   "outputs": [
    {
     "data": {
      "text/plain": [
       "<sqlite3.Cursor at 0x1197519d0>"
      ]
     },
     "execution_count": 6,
     "metadata": {},
     "output_type": "execute_result"
    }
   ],
   "source": [
    "c.execute(\"\"\"CREATE TABLE IF NOT EXISTS Review(\n",
    "                user text,\n",
    "                movie integer, \n",
    "                comment text,\n",
    "                rating integer,\n",
    "                date text,\n",
    "                FOREIGN KEY (movie) REFERENCES Movie(mid),\n",
    "                FOREIGN KEY (user) REFERENCES User(uid)\n",
    "                )\"\"\")"
   ]
  },
  {
   "cell_type": "code",
   "execution_count": 7,
   "metadata": {},
   "outputs": [],
   "source": [
    "\n",
    "def insertintoMovieTable(mid,name,description,region,released_date,poster,director,rating,votecount):\n",
    "    sqliteConnection = sqlite3.connect('MovieFinder.db')\n",
    "    cursor = sqliteConnection.cursor()\n",
    "    sqlite_insert_with_param = \"\"\"REPLACE INTO Movie\n",
    "        (mid,name,description,region,released_date,poster,director,votecount,rating) \n",
    "        VALUES (?, ?, ?, ?, ?,?,?,?,?);\"\"\" \n",
    "    data_tuple=(mid,name,description,region,released_date,poster,director,rating,votecount)\n",
    "    cursor.execute(sqlite_insert_with_param, data_tuple)       \n",
    "    sqliteConnection.commit()      \n",
    "    cursor.close()\n",
    "    "
   ]
  },
  {
   "cell_type": "code",
   "execution_count": 8,
   "metadata": {},
   "outputs": [
    {
     "data": {
      "text/plain": [
       "Index(['Unnamed: 0', 'movie_id', 'Movie_name', 'tagline', 'countries',\n",
       "       'release_date', 'director_name', 'homepage', 'genre_names', 'GenreID_s',\n",
       "       'Actors', 'Actress', 'Other_cast', 'runtime', 'status', 'vote_average',\n",
       "       'vote_count', 'directorID'],\n",
       "      dtype='object')"
      ]
     },
     "execution_count": 8,
     "metadata": {},
     "output_type": "execute_result"
    }
   ],
   "source": [
    "movies= pd.read_csv(\"data/moviesfinal.csv\")\n",
    "movies = movies[:200]\n",
    "movies.columns"
   ]
  },
  {
   "cell_type": "code",
   "execution_count": 9,
   "metadata": {},
   "outputs": [],
   "source": [
    "counter = 1\n",
    "for index,row in movies.iterrows():\n",
    "    counter +=1\n",
    "    insertintoMovieTable(mid=row['movie_id'],name=row['Movie_name'],description=row['tagline'],region= row['countries'],released_date=row['release_date'],poster=\"posters/19995_avatar.jpg\",director= row['directorID'],rating=row['vote_average'],votecount=row['vote_count'])\n",
    "    "
   ]
  },
  {
   "cell_type": "code",
   "execution_count": 10,
   "metadata": {},
   "outputs": [
    {
     "name": "stdout",
     "output_type": "stream",
     "text": [
      "Connected to SQLite\n",
      "200\n"
     ]
    }
   ],
   "source": [
    "\n",
    "sqliteConnection = sqlite3.connect('MovieFinder.db')\n",
    "cursor = sqliteConnection.cursor()\n",
    "print(\"Connected to SQLite\")\n",
    "sqlite_select_query = \"\"\"SELECT * from Movie\"\"\"\n",
    "cursor.execute(sqlite_select_query)\n",
    "records = cursor.fetchall()\n",
    "print(len(records))"
   ]
  },
  {
   "cell_type": "code",
   "execution_count": 11,
   "metadata": {},
   "outputs": [],
   "source": [
    "#c.execute(\"\"\"CREATE TABLE IF NOT EXISTS Movie_Genre(mid,movie,genretype, genreid))\n",
    "def insertintoMovie_GenreTable(movie,genretype, genreid):\n",
    "    sqliteConnection = sqlite3.connect('MovieFinder.db')\n",
    "    cursor = sqliteConnection.cursor()\n",
    "    sqlite_insert_with_param = \"\"\"REPLACE INTO Movie_Genre\n",
    "          (movie,genretype,genreid)\n",
    "          VALUES (?, ?, ?);\"\"\" \n",
    "    data_tuple=(movie,genretype, genreid)\n",
    "    cursor.execute(sqlite_insert_with_param, data_tuple)       \n",
    "    sqliteConnection.commit()      \n",
    "    cursor.close()\n",
    "    "
   ]
  },
  {
   "cell_type": "code",
   "execution_count": 12,
   "metadata": {},
   "outputs": [],
   "source": [
    "df1 = pd.read_csv(\"data/Genre_table.csv\")"
   ]
  },
  {
   "cell_type": "code",
   "execution_count": 13,
   "metadata": {},
   "outputs": [],
   "source": [
    "for index,row in df1.iterrows():\n",
    "    insertintoMovie_GenreTable(movie=row['movieID'],genretype=row['GenreName'], genreid=row['genreID'])"
   ]
  },
  {
   "cell_type": "code",
   "execution_count": 14,
   "metadata": {},
   "outputs": [
    {
     "name": "stdout",
     "output_type": "stream",
     "text": [
      "Connected to SQLite\n",
      "667\n"
     ]
    }
   ],
   "source": [
    "sqliteConnection = sqlite3.connect('MovieFinder.db')\n",
    "cursor = sqliteConnection.cursor()\n",
    "print(\"Connected to SQLite\")\n",
    "sqlite_select_query = \"\"\"SELECT * from Movie_Genre\"\"\"\n",
    "cursor.execute(sqlite_select_query)\n",
    "records = cursor.fetchall()\n",
    "print(len(records))"
   ]
  },
  {
   "cell_type": "code",
   "execution_count": 15,
   "metadata": {},
   "outputs": [],
   "source": [
    "c.execute(\"\"\"CREATE TABLE IF NOT EXISTS Person(pid integer,\n",
    "                name text)\"\"\")\n",
    "def insertintoPersonTable(pid,name):\n",
    "    sqliteConnection = sqlite3.connect('MovieFinder.db')\n",
    "    cursor = sqliteConnection.cursor()\n",
    "    sqlite_insert_with_param = \"\"\"REPLACE INTO Person\n",
    "          (pid,name)\n",
    "          VALUES (?, ?);\"\"\" \n",
    "    data_tuple=(pid,name)\n",
    "    cursor.execute(sqlite_insert_with_param, data_tuple)       \n",
    "    sqliteConnection.commit()      \n",
    "    cursor.close()"
   ]
  },
  {
   "cell_type": "code",
   "execution_count": 16,
   "metadata": {},
   "outputs": [],
   "source": [
    "df2= pd.read_csv(\"data/director.csv\")\n",
    "#df2.to_csv(\"director.csv\",header=['ID','Name'],index=False)"
   ]
  },
  {
   "cell_type": "code",
   "execution_count": 17,
   "metadata": {},
   "outputs": [],
   "source": [
    "for index,row in df2.iterrows():\n",
    "    insertintoPersonTable(pid=row['ID'],name=row['Name'])"
   ]
  },
  {
   "cell_type": "code",
   "execution_count": null,
   "metadata": {},
   "outputs": [],
   "source": []
  },
  {
   "cell_type": "code",
   "execution_count": 18,
   "metadata": {},
   "outputs": [],
   "source": [
    "df3= pd.read_csv(\"data/cast_1.csv\")"
   ]
  },
  {
   "cell_type": "code",
   "execution_count": 19,
   "metadata": {},
   "outputs": [],
   "source": [
    "for index,row in df3.iterrows():\n",
    "    insertintoPersonTable(pid=row['CastID'],name=row['castname'])"
   ]
  },
  {
   "cell_type": "code",
   "execution_count": null,
   "metadata": {},
   "outputs": [],
   "source": [
    "sqliteConnection = sqlite3.connect('MovieFinder.db')\n",
    "cursor = sqliteConnection.cursor()\n",
    "print(\"Connected to SQLite\")\n",
    "sqlite_select_query = \"\"\"SELECT * from Person\"\"\"\n",
    "cursor.execute(sqlite_select_query)\n",
    "records = cursor.fetchall()\n",
    "print(len(records))"
   ]
  },
  {
   "cell_type": "code",
   "execution_count": null,
   "metadata": {},
   "outputs": [],
   "source": [
    "def convertToBinaryData(filename):\n",
    "    with open(filename, 'rb') as file:\n",
    "        blobData = file.read()\n",
    "    return blobData\n",
    "def insertintoUserTable(uid,name,password,profile_photo):\n",
    "    sqliteConnection = sqlite3.connect('MovieFinder.db')\n",
    "    cursor = sqliteConnection.cursor()\n",
    "    sqlite_insert_with_param = \"\"\"REPLACE INTO User\n",
    "        (uid,name,password,profile_photo) \n",
    "        VALUES (?, ?, ?, ?);\"\"\" \n",
    "    Photo = convertToBinaryData(profile_photo)\n",
    "    data_tuple = (uid,name,password,Photo)\n",
    "    cursor.execute(sqlite_insert_with_param, data_tuple)       \n",
    "    sqliteConnection.commit()      \n",
    "    cursor.close()"
   ]
  },
  {
   "cell_type": "code",
   "execution_count": null,
   "metadata": {},
   "outputs": [],
   "source": [
    "insertintoUserTable('1@gmail.com','Sri','hjgdssrsj9076',\"movies/profiles/1\")\n",
    "insertintoUserTable('2@gmail.com','Pattrick','joigjkiophgp544',\"movies/profiles/2.png\")\n",
    "insertintoUserTable('3@gmail.com','Zijian','dewygoqwihf3',\"movies/profiles/3\")\n",
    "insertintoUserTable('4@gmail.com','Mingkai','dfhjfksuf',\"movies/profiles/4.jpg\")"
   ]
  },
  {
   "cell_type": "code",
   "execution_count": null,
   "metadata": {},
   "outputs": [],
   "source": [
    "\n",
    "def insertintowatch_history(uID , mID ,watch_date):\n",
    "    sqliteConnection = sqlite3.connect('MovieFinder.db')\n",
    "    cursor = sqliteConnection.cursor()\n",
    "    sqlite_insert_with_param = \"\"\"REPLACE INTO watch_history\n",
    "        (uID , mID ,watch_date) \n",
    "        VALUES (?, ?,?);\"\"\" \n",
    "    data_tuple = (uID , mID ,watch_date)\n",
    "    cursor.execute(sqlite_insert_with_param, data_tuple)       \n",
    "    sqliteConnection.commit()      \n",
    "    cursor.close()\n",
    "\n"
   ]
  },
  {
   "cell_type": "code",
   "execution_count": null,
   "metadata": {},
   "outputs": [],
   "source": [
    "\n",
    "\n",
    "def insertintowish_list(userID , movieID):\n",
    "    sqliteConnection = sqlite3.connect('MovieFinder.db')\n",
    "    cursor = sqliteConnection.cursor()\n",
    "    sqlite_insert_with_param = \"\"\"REPLACE INTO wish_list\n",
    "        (userID , movieID) \n",
    "        VALUES (?, ?);\"\"\" \n",
    "    data_tuple = (userID , movieID )\n",
    "    cursor.execute(sqlite_insert_with_param, data_tuple)       \n",
    "    sqliteConnection.commit()      \n",
    "    cursor.close() "
   ]
  },
  {
   "cell_type": "code",
   "execution_count": null,
   "metadata": {},
   "outputs": [],
   "source": [
    "\n",
    "def insertintouser_banned_list( userID,banned_user_ID):\n",
    "    sqliteConnection = sqlite3.connect('MovieFinder.db')\n",
    "    cursor = sqliteConnection.cursor()\n",
    "    sqlite_insert_with_param = \"\"\"REPLACE INTO user_banned_list\n",
    "        ( userID,banned_user_ID)\n",
    "        VALUES (?, ?);\"\"\" \n",
    "    data_tuple = (userID,banned_user_ID)\n",
    "    cursor.execute(sqlite_insert_with_param, data_tuple)       \n",
    "    sqliteConnection.commit()      \n",
    "    cursor.close()     "
   ]
  },
  {
   "cell_type": "code",
   "execution_count": null,
   "metadata": {},
   "outputs": [],
   "source": [
    "\n",
    "def insertintoMovie_PostersTable(movieID,poster):\n",
    "    sqliteConnection = sqlite3.connect('MovieFinder.db')\n",
    "    cursor = sqliteConnection.cursor()\n",
    "    sqlite_insert_with_param = \"\"\"REPLACE INTO Movie_Posters\n",
    "        (movieID,poster) \n",
    "        VALUES (?, ?);\"\"\" \n",
    "    Photo = convertToBinaryData(poster)\n",
    "    data_tuple = (movieID,Photo)\n",
    "    cursor.execute(sqlite_insert_with_param, data_tuple)       \n",
    "    sqliteConnection.commit()      \n",
    "    cursor.close()"
   ]
  },
  {
   "cell_type": "code",
   "execution_count": null,
   "metadata": {},
   "outputs": [],
   "source": [
    "#insertintoMovie_PostersTable(19995,\"posters/19995_avatar.jpg\")"
   ]
  },
  {
   "cell_type": "code",
   "execution_count": null,
   "metadata": {},
   "outputs": [],
   "source": [
    "df6= pd.read_csv(\"data/Movie_Director.csv\")\n",
    "counter=0\n",
    "for index,row in df6.iterrows():\n",
    "    #counter +=1\n",
    "    #print(counter,row['movie_id'])\n",
    "    x=row['movie_id']\n",
    "    insertintoMovie_PostersTable(movieID=x,poster= \"movies/posters/\"+str(x)+\".jpg\")"
   ]
  },
  {
   "cell_type": "code",
   "execution_count": null,
   "metadata": {},
   "outputs": [],
   "source": [
    "sqliteConnection = sqlite3.connect('MovieFinder.db')\n",
    "cursor = sqliteConnection.cursor()\n",
    "print(\"Connected to SQLite\")\n",
    "sqlite_select_query = \"\"\"SELECT * from Movie_Posters\"\"\"\n",
    "cursor.execute(sqlite_select_query)\n",
    "records = cursor.fetchall()\n",
    "print(len(records))"
   ]
  },
  {
   "cell_type": "code",
   "execution_count": null,
   "metadata": {},
   "outputs": [],
   "source": []
  }
 ],
 "metadata": {
  "kernelspec": {
   "display_name": "Python 3",
   "language": "python",
   "name": "python3"
  },
  "language_info": {
   "codemirror_mode": {
    "name": "ipython",
    "version": 3
   },
   "file_extension": ".py",
   "mimetype": "text/x-python",
   "name": "python",
   "nbconvert_exporter": "python",
   "pygments_lexer": "ipython3",
   "version": "3.8.3"
  }
 },
 "nbformat": 4,
 "nbformat_minor": 4
}
