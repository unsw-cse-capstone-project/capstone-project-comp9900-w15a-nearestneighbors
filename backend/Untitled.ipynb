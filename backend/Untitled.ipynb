{
 "cells": [
  {
   "cell_type": "code",
   "execution_count": 38,
   "metadata": {},
   "outputs": [],
   "source": [
    "import sqlite3\n",
    "import pandas as pd\n",
    "\n",
    "\n"
   ]
  },
  {
   "cell_type": "code",
   "execution_count": 39,
   "metadata": {},
   "outputs": [],
   "source": [
    "import sqlite3\n",
    "conn = sqlite3.connect('MovieFinder.db')\n",
    "c= conn.cursor()\n",
    "\n",
    "c.execute(\"\"\"CREATE TABLE Customers(\n",
    "                firstName text,\n",
    "                lastname text,\n",
    "                DateofBirth text,\n",
    "                EmailAddress text,\n",
    "                Password text,\n",
    "                PhoneNumber integer,\n",
    "                Banlist text,\n",
    "                Wishlist text,\n",
    "                UserID integer\n",
    "                )\"\"\")\n",
    "\n",
    "\n",
    "c.execute(\"\"\"CREATE TABLE Movies(\n",
    "Id integer,\n",
    "MovieName text,\n",
    "ReleasedDate text,\n",
    "WebsiteName text,\n",
    "Cast text,\n",
    "Director text,\n",
    "Genre text,\n",
    "Rating integer,\n",
    "Reviews text,\n",
    "Region text\n",
    ")\"\"\")\n",
    "\n",
    "c.execute(\"\"\" CREATE TABLE Reviews(\n",
    "UserID integer,\n",
    "MovieID integer,\n",
    "comment text,\n",
    "rating number,\n",
    "date text\n",
    ")\"\"\")\n",
    "\n",
    "c.execute(\"\"\" CREATE TABLE Watched(\n",
    "UserID integer,\n",
    "MovieID integer,\n",
    "date text\n",
    ")\"\"\")\n",
    "\n",
    "\n",
    "\n",
    "\n",
    "c.execute(\"\"\"CREATE TABLE Client(\n",
    "Movie text,\n",
    "Website text\n",
    ")\"\"\")\n",
    "\n",
    "c.execute(\"\"\"CREATE TABLE Actor(\n",
    "Name text,\n",
    "PopularityStats text,\n",
    "PID integer\n",
    ")\"\"\")\n",
    "\n",
    "\n",
    "\n",
    "conn.commit()\n",
    "conn.close()\n"
   ]
  },
  {
   "cell_type": "code",
   "execution_count": 48,
   "metadata": {},
   "outputs": [],
   "source": [
    "def insertVaribleIntoTable(id, MovieName ,ReleasedDate ,WebsiteName ,Cast ,Director,Genre ,Rating,Reviews,Region):          \n",
    "        sqliteConnection = sqlite3.connect('MovieFinder.db')\n",
    "        cursor = sqliteConnection.cursor()\n",
    "        sqlite_insert_with_param = \"\"\"INSERT INTO Movies\n",
    "        (id, MovieName ,ReleasedDate ,WebsiteName ,Cast ,Director,Genre ,Rating,Reviews,Region) \n",
    "        VALUES (?, ?, ?, ?, ?,?, ?, ?, ?, ?);\"\"\"       \n",
    "        data_tuple = (id, MovieName ,ReleasedDate ,WebsiteName ,Cast ,Director,Genre ,Rating,Reviews,Region)\n",
    "        cursor.execute(sqlite_insert_with_param, data_tuple)       \n",
    "        sqliteConnection.commit()      \n",
    "           \n",
    "        cursor.close()\n",
    "\n",
    "def insertReviews(userid,movieid,comment,rating,date):\n",
    "        sqliteConnection = sqlite3.connect('MovieFinder.db')\n",
    "        cursor = sqliteConnection.cursor()\n",
    "        sqlite_insert_with_param = \"\"\"INSERT INTO Reviews\n",
    "        (userid,movieid,comment,rating,date)\n",
    "        VALUES (?, ?, ?, ?, ?);\"\"\"       \n",
    "        data_tuple = (userid,movieid,comment,rating,date)\n",
    "        cursor.execute(sqlite_insert_with_param, data_tuple)       \n",
    "        sqliteConnection.commit()      \n",
    "        cursor.close()\n",
    "        \n",
    "def insertCustomer(UserID,firstName,lastname, DateofBirth,EmailAddress, Password,PhoneNumber ,Banlist,Wishlist):\n",
    "        sqliteConnection = sqlite3.connect('MovieFinder.db')\n",
    "        cursor = sqliteConnection.cursor()\n",
    "        sqlite_insert_with_param = \"\"\"INSERT INTO Customers \n",
    "        (UserID, firstName,lastname, DateofBirth,EmailAddress, Password,PhoneNumber ,Banlist,Wishlist)\n",
    "        \n",
    "        VALUES (?, ?, ?, ?, ?, ?, ?, ?, ?);\"\"\"       \n",
    "        data_tuple = (UserID,firstName,lastname, DateofBirth,EmailAddress, Password,PhoneNumber ,Banlist,Wishlist)\n",
    "        cursor.execute(sqlite_insert_with_param, data_tuple)       \n",
    "        sqliteConnection.commit()      \n",
    "        cursor.close()\n",
    "    \n",
    "    \n"
   ]
  },
  {
   "cell_type": "code",
   "execution_count": 50,
   "metadata": {},
   "outputs": [],
   "source": [
    "insertReviews(1,2,'',1,'')\n",
    "insertCustomer(1,'firstName','lastname', 'DateofBirth','EmailAddress', 'Password',0,'Banlist','Wishlist')"
   ]
  },
  {
   "cell_type": "code",
   "execution_count": 41,
   "metadata": {},
   "outputs": [],
   "source": [
    "movies_df= pd.read_csv('movies_final.csv')\n",
    "counter = 1\n",
    "for index,row in movies_df.iterrows():\n",
    "    insertVaribleIntoTable(id = counter, MovieName=row['original_title'] ,ReleasedDate= row['release_date'] ,WebsiteName = '' ,Cast=str(row['cast_final']) ,Director = '' ,Genre = row['genre_final']  ,Rating=0 ,Reviews='' ,Region=row['region_final'] )\n",
    "    counter +=1\n",
    "\n",
    "    "
   ]
  },
  {
   "cell_type": "code",
   "execution_count": 42,
   "metadata": {},
   "outputs": [
    {
     "name": "stdout",
     "output_type": "stream",
     "text": [
      "Connected to SQLite\n"
     ]
    }
   ],
   "source": [
    "sqliteConnection = sqlite3.connect('MovieFinder.db')\n",
    "cursor = sqliteConnection.cursor()\n",
    "print(\"Connected to SQLite\")\n",
    "sqlite_select_query = \"\"\"SELECT * from Movies\"\"\"\n",
    "cursor.execute(sqlite_select_query)\n",
    "records = cursor.fetchall()"
   ]
  },
  {
   "cell_type": "code",
   "execution_count": 45,
   "metadata": {},
   "outputs": [
    {
     "data": {
      "text/plain": [
       "4803"
      ]
     },
     "execution_count": 45,
     "metadata": {},
     "output_type": "execute_result"
    }
   ],
   "source": [
    "len(records)"
   ]
  },
  {
   "cell_type": "code",
   "execution_count": null,
   "metadata": {},
   "outputs": [],
   "source": []
  },
  {
   "cell_type": "code",
   "execution_count": null,
   "metadata": {},
   "outputs": [],
   "source": []
  }
 ],
 "metadata": {
  "kernelspec": {
   "display_name": "Python 3",
   "language": "python",
   "name": "python3"
  },
  "language_info": {
   "codemirror_mode": {
    "name": "ipython",
    "version": 3
   },
   "file_extension": ".py",
   "mimetype": "text/x-python",
   "name": "python",
   "nbconvert_exporter": "python",
   "pygments_lexer": "ipython3",
   "version": "3.8.3"
  }
 },
 "nbformat": 4,
 "nbformat_minor": 4
}
